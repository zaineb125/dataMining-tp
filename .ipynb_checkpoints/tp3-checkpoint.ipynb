{
 "cells": [
  {
   "cell_type": "code",
   "execution_count": 9,
   "id": "0648d709",
   "metadata": {},
   "outputs": [
    {
     "name": "stdout",
     "output_type": "stream",
     "text": [
      "[[5.1 3.5 1.4 0.2]\n",
      " [4.9 3.  1.4 0.2]\n",
      " [4.7 3.2 1.3 0.2]\n",
      " [4.6 3.1 1.5 0.2]\n",
      " [5.  3.6 1.4 0.2]\n",
      " [5.4 3.9 1.7 0.4]\n",
      " [4.6 3.4 1.4 0.3]\n",
      " [5.  3.4 1.5 0.2]\n",
      " [4.4 2.9 1.4 0.2]\n",
      " [4.9 3.1 1.5 0.1]\n",
      " [5.4 3.7 1.5 0.2]\n",
      " [4.8 3.4 1.6 0.2]\n",
      " [4.8 3.  1.4 0.1]\n",
      " [4.3 3.  1.1 0.1]\n",
      " [5.8 4.  1.2 0.2]\n",
      " [5.7 4.4 1.5 0.4]\n",
      " [5.4 3.9 1.3 0.4]\n",
      " [5.1 3.5 1.4 0.3]\n",
      " [5.7 3.8 1.7 0.3]\n",
      " [5.1 3.8 1.5 0.3]\n",
      " [5.4 3.4 1.7 0.2]\n",
      " [5.1 3.7 1.5 0.4]\n",
      " [4.6 3.6 1.  0.2]\n",
      " [5.1 3.3 1.7 0.5]\n",
      " [4.8 3.4 1.9 0.2]\n",
      " [5.  3.  1.6 0.2]\n",
      " [5.  3.4 1.6 0.4]\n",
      " [5.2 3.5 1.5 0.2]\n",
      " [5.2 3.4 1.4 0.2]\n",
      " [4.7 3.2 1.6 0.2]\n",
      " [4.8 3.1 1.6 0.2]\n",
      " [5.4 3.4 1.5 0.4]\n",
      " [5.2 4.1 1.5 0.1]\n",
      " [5.5 4.2 1.4 0.2]\n",
      " [4.9 3.1 1.5 0.2]\n",
      " [5.  3.2 1.2 0.2]\n",
      " [5.5 3.5 1.3 0.2]\n",
      " [4.9 3.6 1.4 0.1]\n",
      " [4.4 3.  1.3 0.2]\n",
      " [5.1 3.4 1.5 0.2]\n",
      " [5.  3.5 1.3 0.3]\n",
      " [4.5 2.3 1.3 0.3]\n",
      " [4.4 3.2 1.3 0.2]\n",
      " [5.  3.5 1.6 0.6]\n",
      " [5.1 3.8 1.9 0.4]\n",
      " [4.8 3.  1.4 0.3]\n",
      " [5.1 3.8 1.6 0.2]\n",
      " [4.6 3.2 1.4 0.2]\n",
      " [5.3 3.7 1.5 0.2]\n",
      " [5.  3.3 1.4 0.2]\n",
      " [7.  3.2 4.7 1.4]\n",
      " [6.4 3.2 4.5 1.5]\n",
      " [6.9 3.1 4.9 1.5]\n",
      " [5.5 2.3 4.  1.3]\n",
      " [6.5 2.8 4.6 1.5]\n",
      " [5.7 2.8 4.5 1.3]\n",
      " [6.3 3.3 4.7 1.6]\n",
      " [4.9 2.4 3.3 1. ]\n",
      " [6.6 2.9 4.6 1.3]\n",
      " [5.2 2.7 3.9 1.4]\n",
      " [5.  2.  3.5 1. ]\n",
      " [5.9 3.  4.2 1.5]\n",
      " [6.  2.2 4.  1. ]\n",
      " [6.1 2.9 4.7 1.4]\n",
      " [5.6 2.9 3.6 1.3]\n",
      " [6.7 3.1 4.4 1.4]\n",
      " [5.6 3.  4.5 1.5]\n",
      " [5.8 2.7 4.1 1. ]\n",
      " [6.2 2.2 4.5 1.5]\n",
      " [5.6 2.5 3.9 1.1]\n",
      " [5.9 3.2 4.8 1.8]\n",
      " [6.1 2.8 4.  1.3]\n",
      " [6.3 2.5 4.9 1.5]\n",
      " [6.1 2.8 4.7 1.2]\n",
      " [6.4 2.9 4.3 1.3]\n",
      " [6.6 3.  4.4 1.4]\n",
      " [6.8 2.8 4.8 1.4]\n",
      " [6.7 3.  5.  1.7]\n",
      " [6.  2.9 4.5 1.5]\n",
      " [5.7 2.6 3.5 1. ]\n",
      " [5.5 2.4 3.8 1.1]\n",
      " [5.5 2.4 3.7 1. ]\n",
      " [5.8 2.7 3.9 1.2]\n",
      " [6.  2.7 5.1 1.6]\n",
      " [5.4 3.  4.5 1.5]\n",
      " [6.  3.4 4.5 1.6]\n",
      " [6.7 3.1 4.7 1.5]\n",
      " [6.3 2.3 4.4 1.3]\n",
      " [5.6 3.  4.1 1.3]\n",
      " [5.5 2.5 4.  1.3]\n",
      " [5.5 2.6 4.4 1.2]\n",
      " [6.1 3.  4.6 1.4]\n",
      " [5.8 2.6 4.  1.2]\n",
      " [5.  2.3 3.3 1. ]\n",
      " [5.6 2.7 4.2 1.3]\n",
      " [5.7 3.  4.2 1.2]\n",
      " [5.7 2.9 4.2 1.3]\n",
      " [6.2 2.9 4.3 1.3]\n",
      " [5.1 2.5 3.  1.1]\n",
      " [5.7 2.8 4.1 1.3]\n",
      " [6.3 3.3 6.  2.5]\n",
      " [5.8 2.7 5.1 1.9]\n",
      " [7.1 3.  5.9 2.1]\n",
      " [6.3 2.9 5.6 1.8]\n",
      " [6.5 3.  5.8 2.2]\n",
      " [7.6 3.  6.6 2.1]\n",
      " [4.9 2.5 4.5 1.7]\n",
      " [7.3 2.9 6.3 1.8]\n",
      " [6.7 2.5 5.8 1.8]\n",
      " [7.2 3.6 6.1 2.5]\n",
      " [6.5 3.2 5.1 2. ]\n",
      " [6.4 2.7 5.3 1.9]\n",
      " [6.8 3.  5.5 2.1]\n",
      " [5.7 2.5 5.  2. ]\n",
      " [5.8 2.8 5.1 2.4]\n",
      " [6.4 3.2 5.3 2.3]\n",
      " [6.5 3.  5.5 1.8]\n",
      " [7.7 3.8 6.7 2.2]\n",
      " [7.7 2.6 6.9 2.3]\n",
      " [6.  2.2 5.  1.5]\n",
      " [6.9 3.2 5.7 2.3]\n",
      " [5.6 2.8 4.9 2. ]\n",
      " [7.7 2.8 6.7 2. ]\n",
      " [6.3 2.7 4.9 1.8]\n",
      " [6.7 3.3 5.7 2.1]\n",
      " [7.2 3.2 6.  1.8]\n",
      " [6.2 2.8 4.8 1.8]\n",
      " [6.1 3.  4.9 1.8]\n",
      " [6.4 2.8 5.6 2.1]\n",
      " [7.2 3.  5.8 1.6]\n",
      " [7.4 2.8 6.1 1.9]\n",
      " [7.9 3.8 6.4 2. ]\n",
      " [6.4 2.8 5.6 2.2]\n",
      " [6.3 2.8 5.1 1.5]\n",
      " [6.1 2.6 5.6 1.4]\n",
      " [7.7 3.  6.1 2.3]\n",
      " [6.3 3.4 5.6 2.4]\n",
      " [6.4 3.1 5.5 1.8]\n",
      " [6.  3.  4.8 1.8]\n",
      " [6.9 3.1 5.4 2.1]\n",
      " [6.7 3.1 5.6 2.4]\n",
      " [6.9 3.1 5.1 2.3]\n",
      " [5.8 2.7 5.1 1.9]\n",
      " [6.8 3.2 5.9 2.3]\n",
      " [6.7 3.3 5.7 2.5]\n",
      " [6.7 3.  5.2 2.3]\n",
      " [6.3 2.5 5.  1.9]\n",
      " [6.5 3.  5.2 2. ]\n",
      " [6.2 3.4 5.4 2.3]\n",
      " [5.9 3.  5.1 1.8]]\n",
      "[0 0 0 0 0 0 0 0 0 0 0 0 0 0 0 0 0 0 0 0 0 0 0 0 0 0 0 0 0 0 0 0 0 0 0 0 0\n",
      " 0 0 0 0 0 0 0 0 0 0 0 0 0 1 1 1 1 1 1 1 1 1 1 1 1 1 1 1 1 1 1 1 1 1 1 1 1\n",
      " 1 1 1 1 1 1 1 1 1 1 1 1 1 1 1 1 1 1 1 1 1 1 1 1 1 1 2 2 2 2 2 2 2 2 2 2 2\n",
      " 2 2 2 2 2 2 2 2 2 2 2 2 2 2 2 2 2 2 2 2 2 2 2 2 2 2 2 2 2 2 2 2 2 2 2 2 2\n",
      " 2 2]\n"
     ]
    }
   ],
   "source": [
    "from sklearn import datasets\n",
    "# Load the dataset\n",
    "irisData = datasets.load_iris()\n",
    "#display the data\n",
    "print (irisData.data)\n",
    "print (irisData.target)\n",
    "X = irisData.data\n",
    "y = irisData.target"
   ]
  },
  {
   "cell_type": "code",
   "execution_count": 10,
   "id": "74f98e0d",
   "metadata": {},
   "outputs": [
    {
     "data": {
      "text/plain": [
       "((150, 4), (150,))"
      ]
     },
     "execution_count": 10,
     "metadata": {},
     "output_type": "execute_result"
    }
   ],
   "source": [
    "# Show the dimensions of the dataset\n",
    "irisData.data.shape, irisData.target.shape"
   ]
  },
  {
   "cell_type": "markdown",
   "id": "bbc0c453",
   "metadata": {},
   "source": [
    "## 2-A vous :"
   ]
  },
  {
   "cell_type": "markdown",
   "id": "4153e4da",
   "metadata": {},
   "source": [
    "a -Comment sont réparties les données dans les tableaux ?"
   ]
  },
  {
   "cell_type": "markdown",
   "id": "4c1d68eb",
   "metadata": {},
   "source": [
    "En totalité on a 150 instances réparties dans deux tableaux input et output .Dans le tableau input on a 4 colonnes numériques :\n",
    "- sepal length in cm\n",
    "- sepal width in cm\n",
    "- petal length in cm\n",
    "- petal width in cm\n",
    "\n",
    "Dans le tableau output, on a une seul valeur numérique pour chaque instance qui désigne le type d'Iris:\n",
    "- 0: Iris-Setosa\n",
    "- 1: Iris-Versicolour\n",
    "- 2: Iris-Virginica"
   ]
  },
  {
   "cell_type": "markdown",
   "id": "e512c66a",
   "metadata": {},
   "source": [
    "Combier y'a t'il de donnée dans chaque classe ? "
   ]
  },
  {
   "cell_type": "code",
   "execution_count": 11,
   "id": "2f438d3f",
   "metadata": {},
   "outputs": [
    {
     "data": {
      "text/plain": [
       "((50, 4), (50, 4), (50, 4))"
      ]
     },
     "execution_count": 11,
     "metadata": {},
     "output_type": "execute_result"
    }
   ],
   "source": [
    "X[y==0].shape,X[y==1].shape,X[y==2].shape"
   ]
  },
  {
   "cell_type": "markdown",
   "id": "23297aa9",
   "metadata": {},
   "source": [
    "Quels sont les attributs et la classe du 32ème élément de l'échantillon ?"
   ]
  },
  {
   "cell_type": "code",
   "execution_count": 12,
   "id": "12db2f81",
   "metadata": {},
   "outputs": [
    {
     "data": {
      "text/plain": [
       "(array([5.4, 3.4, 1.5, 0.4]), 0)"
      ]
     },
     "execution_count": 12,
     "metadata": {},
     "output_type": "execute_result"
    }
   ],
   "source": [
    "X[31], y[31]"
   ]
  },
  {
   "cell_type": "markdown",
   "id": "15838c25",
   "metadata": {},
   "source": [
    "b-Comprendre, commenter et programmer le code source suivant :"
   ]
  },
  {
   "cell_type": "code",
   "execution_count": 16,
   "id": "1df69596",
   "metadata": {},
   "outputs": [
    {
     "data": {
      "image/png": "[encoded data removed]",
      "text/plain": [
       "<Figure size 432x288 with 1 Axes>"
      ]
     },
     "metadata": {
      "needs_background": "light"
     },
     "output_type": "display_data"
    }
   ],
   "source": [
    "import matplotlib\n",
    "import pylab as pl\n",
    "from itertools import cycle\n",
    "def plot_2D(data, target, target_names):\n",
    "    colors = cycle('rgbcmykw') # cycle de couleurs\n",
    "    target_ids = range(len(target_names))\n",
    "    pl.figure()\n",
    "    for i, c, label in zip(target_ids, colors, target_names):\n",
    "        pl.scatter(data[target == i, 0], data[target == i, 1], c=c, label=label)\n",
    "    pl.legend()\n",
    "    pl.show()\n",
    "plot_2D(irisData.data, irisData.target, [\"Iris-Setosa\", \"Iris-Versicolour\", \"Iris-Virginica\"])"
   ]
  },
  {
   "cell_type": "markdown",
   "id": "a32ddbf2",
   "metadata": {},
   "source": [
    "c. Est-ce qu'il existe un espace 2D (constitué de deux attributs) dans lequel une droite\n",
    "(parmi d'autres) permettrait de séparer les exemples d'une classe des exemples des deux\n",
    "autres classes ? Si oui, fournir une équation de cette droite."
   ]
  },
  {
   "cell_type": "code",
   "execution_count": null,
   "id": "837afa8e",
   "metadata": {},
   "outputs": [],
   "source": [
    "# Inclure les dépendances matplotlib, cycle et pylab\n",
    "from itertools import cycle\n",
    "import matplotlib\n",
    "import numpy as np\n",
    "import pylab as pl\n",
    "\n",
    "line_x= np.linspace(4.5,6.5,1000)\n",
    "\n",
    "# Visualiser le nuage des points de tous les classes\n",
    "def plot_2D(data, target, target_names):\n",
    "    colors = cycle('rgbcmykw') # cycle de couleurs\n",
    "    target_ids = range(len(target_names))\n",
    "    pl.figure()\n",
    "    ax = pl.subplot(111)\n",
    "    ax.plot(line_x,(line_x*1)-2.3)\n",
    "    # Itérer sur les classes et dans chaque itération, on utilise une couleur unique\n",
    "    for i, c, label in zip(target_ids, colors, target_names):\n",
    "    # Choisir Sepal length et Sepal width seulement comme deux axes \n",
    "      ax.scatter(data[target == i, 0], data[target == i, 1], c=c, label=label)\n",
    "    ax.legend()\n",
    "    ax.figure.show()\n",
    "\n",
    "# Appeler la fonction plot_2D en passant en entré les données, la classe de chaque instance\n",
    "# et les différents noms des classes\n",
    "plot_2D(irisData.data, irisData.target, [\"Iris-Setosa\", \"Iris-Versicolour\", \"Iris-Virginica\"])"
   ]
  },
  {
   "cell_type": "markdown",
   "id": "fa2765f6",
   "metadata": {},
   "source": [
    "# 3-A vous :"
   ]
  },
  {
   "cell_type": "code",
   "execution_count": 24,
   "id": "ed021265",
   "metadata": {},
   "outputs": [
    {
     "data": {
      "text/plain": [
       "MultinomialNB()"
      ]
     },
     "execution_count": 24,
     "metadata": {},
     "output_type": "execute_result"
    }
   ],
   "source": [
    "from sklearn import naive_bayes\n",
    "# Initialiser le classifieur\n",
    "nb = naive_bayes.MultinomialNB(fit_prior=True)# un algo d'apprentissage\n",
    "# Charger les données\n",
    "irisData = datasets.load_iris()\n",
    "\n",
    "# Lancer la phase d'apprentissage\n",
    "nb.fit(irisData.data[:-1], irisData.target[:-1])"
   ]
  },
  {
   "cell_type": "code",
   "execution_count": 25,
   "id": "0c88fde9",
   "metadata": {},
   "outputs": [
    {
     "name": "stdout",
     "output_type": "stream",
     "text": [
      "0 [0]\n"
     ]
    }
   ],
   "source": [
    "# Lancer la prédiction\n",
    "p31 = nb.predict([irisData.data[31]])\n",
    "print(irisData.target[31], p31)"
   ]
  },
  {
   "cell_type": "code",
   "execution_count": 26,
   "id": "30c4eeb2",
   "metadata": {},
   "outputs": [
    {
     "name": "stdout",
     "output_type": "stream",
     "text": [
      "[2]\n"
     ]
    }
   ],
   "source": [
    "plast = nb.predict([irisData.data[-1]])\n",
    "print(plast)"
   ]
  },
  {
   "cell_type": "code",
   "execution_count": 27,
   "id": "2fc17a17",
   "metadata": {},
   "outputs": [
    {
     "name": "stdout",
     "output_type": "stream",
     "text": [
      "Prediction results [0 0 0 0 0 0 0 0 0 0 0 0 0 0 0 0 0 0 0 0 0 0 0 0 0 0 0 0 0 0 0 0 0 0 0 0 0\n",
      " 0 0 0 0 0 0 0 0 0 0 0 0 0 1 1 1 1 1 1 1 1 1 1 1 1 1 1 1 1 1 1 1 1 1 1 1 1\n",
      " 1 1 1 1 1 1 1 1 1 2 1 1 1 1 1 1 1 1 1 1 1 1 1 1 1 1 2 2 2 2 2 2 2 2 2 2 2\n",
      " 2 2 2 2 2 2 2 2 2 2 2 2 2 2 1 2 2 2 1 2 1 2 1 2 2 2 2 2 2 2 2 2 2 2 2 2 2\n",
      " 2 2]\n",
      "Actual results [0 0 0 0 0 0 0 0 0 0 0 0 0 0 0 0 0 0 0 0 0 0 0 0 0 0 0 0 0 0 0 0 0 0 0 0 0\n",
      " 0 0 0 0 0 0 0 0 0 0 0 0 0 1 1 1 1 1 1 1 1 1 1 1 1 1 1 1 1 1 1 1 1 1 1 1 1\n",
      " 1 1 1 1 1 1 1 1 1 1 1 1 1 1 1 1 1 1 1 1 1 1 1 1 1 1 2 2 2 2 2 2 2 2 2 2 2\n",
      " 2 2 2 2 2 2 2 2 2 2 2 2 2 2 2 2 2 2 2 2 2 2 2 2 2 2 2 2 2 2 2 2 2 2 2 2 2\n",
      " 2 2]\n"
     ]
    }
   ],
   "source": [
    "predicted_results = nb.predict(irisData.data[:])\n",
    "print(\"Prediction results\", predicted_results)\n",
    "print(\"Actual results\", irisData.target)"
   ]
  },
  {
   "cell_type": "markdown",
   "id": "41c58beb",
   "metadata": {},
   "source": [
    "b. De la même façon : que réalise le programme ci-dessous ? Les résultats vous semblent-\n",
    "ils cohérents ? Comment interpréter les résultats ? Que proposez-vous pour équilibrer l'ensemble d'apprentissage et l'ensemble de test ?"
   ]
  },
  {
   "cell_type": "code",
   "execution_count": 30,
   "id": "c26a1c3c",
   "metadata": {},
   "outputs": [
    {
     "name": "stdout",
     "output_type": "stream",
     "text": [
      "Prediction results [1 1 1 1 1 1 1 1 1 1 1 1 1 1 1 1 1 1 1 1 1 1 1 1 1 1 1 1 1 1 1 1 1 1 1 1 1\n",
      " 1 1 1 1 1 1 1 1 1 1 1 1]\n",
      "Actual results [2 2 2 2 2 2 2 2 2 2 2 2 2 2 2 2 2 2 2 2 2 2 2 2 2 2 2 2 2 2 2 2 2 2 2 2 2\n",
      " 2 2 2 2 2 2 2 2 2 2 2 2]\n"
     ]
    }
   ],
   "source": [
    "from sklearn import naive_bayes\n",
    "nb = naive_bayes.MultinomialNB(fit_prior=True)\n",
    "nb.fit(irisData.data[:99], irisData.target[:99])\n",
    "prediction_result=nb.predict(irisData.data[100:149])\n",
    "\n",
    "print(\"Prediction results\", prediction_result)\n",
    "print(\"Actual results\", irisData.target[100:149])"
   ]
  },
  {
   "cell_type": "markdown",
   "id": "8c2fcfaf",
   "metadata": {},
   "source": [
    "\n",
    "Les résultats sont incohérents. Le problème c'est que notre dataset n'est pas équilibré aprés la division. En effet le modèle n'a jamais vu le 3éme type 'Iris-Virginica'. Pour remédier à ce problème, il faut mélanger le dataset avant la division (Train & Test)."
   ]
  },
  {
   "cell_type": "code",
   "execution_count": 32,
   "id": "50cb4f49",
   "metadata": {},
   "outputs": [
    {
     "name": "stdout",
     "output_type": "stream",
     "text": [
      "Prediction  [2, 0, 1, 0, 2, 0, 2, 2, 1, 2, 0, 0, 1, 0, 2, 1, 2, 1, 1, 1, 2, 0, 0, 0, 1, 1, 2, 0, 2, 1, 1, 1, 2, 1, 2, 2, 2, 0, 1, 2, 1, 1, 0, 2, 2, 1, 0, 2, 0]\n",
      "Actual      [2, 0, 1, 0, 2, 0, 2, 2, 1, 2, 0, 0, 1, 0, 1, 1, 2, 1, 1, 1, 1, 0, 0, 0, 1, 1, 2, 0, 2, 2, 1, 1, 2, 1, 2, 2, 2, 0, 1, 2, 1, 1, 0, 2, 2, 1, 0, 2, 0]\n"
     ]
    }
   ],
   "source": [
    "from sklearn import naive_bayes\n",
    "from random import shuffle\n",
    "\n",
    "nb = naive_bayes.MultinomialNB(fit_prior=True)\n",
    "data = list(zip(irisData.data, irisData.target))\n",
    "\n",
    "shuffle(data)\n",
    "X, y = list(zip(*data))\n",
    "\n",
    "nb.fit(X[:99], y[:99])\n",
    "\n",
    "# Prédire sur les données restantes\n",
    "prediction_result = nb.predict(X[100:149])\n",
    "\n",
    "print(\"Prediction \", list(prediction_result))\n",
    "print(\"Actual     \", list(y[100:149]))"
   ]
  },
  {
   "cell_type": "markdown",
   "id": "5127536d",
   "metadata": {},
   "source": [
    "## Evaluer les erreurs :"
   ]
  },
  {
   "cell_type": "code",
   "execution_count": 33,
   "id": "80b8125c",
   "metadata": {},
   "outputs": [
    {
     "data": {
      "text/plain": [
       "0.04666666666666667"
      ]
     },
     "execution_count": 33,
     "metadata": {},
     "output_type": "execute_result"
    }
   ],
   "source": [
    "nb.fit(irisData.data, irisData.target)\n",
    "prediction_result = nb.predict(irisData.data)\n",
    "\n",
    "# Calculer l'erreur en faisant la somme des inégalité\n",
    "def calculate_error(P, Y):\n",
    "    ea = 0\n",
    "    for i in range(len(irisData.target)):\n",
    "        if (P[i] != Y[i]):\n",
    "            ea = ea+1\n",
    "    return (ea/len(Y))\n",
    "\n",
    "calculate_error(prediction_result, irisData.target)"
   ]
  },
  {
   "cell_type": "markdown",
   "id": "5c5fdceb",
   "metadata": {},
   "source": [
    "2-Les opérateurs sur les tableaux et matrices devraient vous permettre d'effectuer ce comptage en une seule instruction"
   ]
  },
  {
   "cell_type": "code",
   "execution_count": 34,
   "id": "0f22c224",
   "metadata": {},
   "outputs": [
    {
     "name": "stdout",
     "output_type": "stream",
     "text": [
      "[ 0  0  0  0  0  0  0  0  0  0  0  0  0  0  0  0  0  0  0  0  0  0  0  0\n",
      "  0  0  0  0  0  0  0  0  0  0  0  0  0  0  0  0  0  0  0  0  0  0  0  0\n",
      "  0  0  0  0  0  0  0  0  0  0  0  0  0  0  0  0  0  0  0  0  1  0  1  0\n",
      "  1  0  0  0  0  0  0  0  0  0  0  1  0  0  0  0  0  0  0  0  0  0  0  0\n",
      "  0  0  0  0  0  0  0  0  0  0  0  0  0  0  0  0  0  0  0  0  0  0  0  0\n",
      "  0  0  0  0  0  0  0  0  0 -1  0 -1  0 -1  0  0  0  0  0  0  0  0  0  0\n",
      "  0  0  0  0  0  0]\n"
     ]
    },
    {
     "data": {
      "text/plain": [
       "0.04666666666666667"
      ]
     },
     "execution_count": 34,
     "metadata": {},
     "output_type": "execute_result"
    }
   ],
   "source": [
    "diff = prediction_result - irisData.target\n",
    "print(diff)\n",
    "np.count_nonzero(diff)/len(irisData.target)"
   ]
  },
  {
   "cell_type": "markdown",
   "id": "bb7a523a",
   "metadata": {},
   "source": [
    "On peut aussi calculer le taux de bonne classification du modèle et le taux d'erreur en utilisant la méthode `.score()`"
   ]
  },
  {
   "cell_type": "code",
   "execution_count": 35,
   "id": "a6f6bd36",
   "metadata": {},
   "outputs": [
    {
     "name": "stdout",
     "output_type": "stream",
     "text": [
      "Accuracy = 0.9533333333333334\n",
      "Taux d'erreur = 0.046666666666666634\n"
     ]
    }
   ],
   "source": [
    "print(f\"Accuracy = {nb.score(irisData.data, irisData.target)}\")\n",
    "print(f\"Taux d'erreur = {1-nb.score(irisData.data, irisData.target)}\")"
   ]
  },
  {
   "cell_type": "markdown",
   "id": "588d23f5",
   "metadata": {},
   "source": [
    "## Performances en généralisation"
   ]
  },
  {
   "cell_type": "markdown",
   "id": "e83257be",
   "metadata": {},
   "source": [
    "La fonction `split(S)` permet de séléctionner les indexes qui vont être présent dans le Set `S2`. Puis, charger les listes `dataS1`, `targetS1`, `dataS2` et `targetS2` suivant l'index (si il fait partie des indexes `S2`, on l'ajoute à la liste `S2` sinon dans `S1`."
   ]
  },
  {
   "cell_type": "code",
   "execution_count": 36,
   "id": "9f0b9175",
   "metadata": {},
   "outputs": [
    {
     "name": "stdout",
     "output_type": "stream",
     "text": [
      "dataS1 = 100  targetS1 = 100\n",
      "dataS2 = 50  targetS2 = 50\n"
     ]
    }
   ],
   "source": [
    "from random import sample\n",
    "S = list(zip(irisData.data, irisData.target))\n",
    "def split(S):\n",
    "    s2_size = len(S)*0.33\n",
    "    s2_indexes = sample(range(len(S)),k=round(s2_size))\n",
    "\n",
    "    dataS1 = []\n",
    "    targetS1 = []\n",
    "    dataS2 = []\n",
    "    targetS2 = []\n",
    "    for i in range(len(S)):\n",
    "        if i in s2_indexes:\n",
    "            dataS2.append(S[i][0])\n",
    "            targetS2.append(S[i][1])\n",
    "        else:\n",
    "            dataS1.append(S[i][0])\n",
    "            targetS1.append(S[i][1])\n",
    "    return [dataS1, targetS1, dataS2, targetS2]\n",
    "\n",
    "\n",
    "[dataS1, targetS1, dataS2, targetS2] = split(S)\n",
    "print(f\"dataS1 = {len(dataS1)}  targetS1 = {len(targetS1)}\")\n",
    "print(f\"dataS2 = {len(dataS2)}  targetS2 = {len(targetS2)}\")"
   ]
  },
  {
   "cell_type": "markdown",
   "id": "0f88ce8c",
   "metadata": {},
   "source": [
    "Pour tester la fonction `split()`, on va créer une fonction `test` qui va effectuer l'apprentissage et le calcule d'erreur."
   ]
  },
  {
   "cell_type": "code",
   "execution_count": 43,
   "id": "d8852b13",
   "metadata": {},
   "outputs": [
    {
     "data": {
      "text/plain": [
       "0.19999999999999996"
      ]
     },
     "execution_count": 43,
     "metadata": {},
     "output_type": "execute_result"
    }
   ],
   "source": [
    "def test(S, clf):\n",
    "  '''\n",
    "  - S is the list containing (X,y) pairs\n",
    "  - clf is the sklearn model\n",
    "  '''\n",
    "  [dataS1, targetS1, dataS2, targetS2] = split(S)\n",
    "  clf.fit(dataS1, targetS1)\n",
    "  return 1-clf.score(dataS2, targetS2)\n",
    "\n",
    "test(S,nb)"
   ]
  },
  {
   "cell_type": "markdown",
   "id": "0d6aa76b",
   "metadata": {},
   "source": [
    "L'erreur estimée est-elle plus petite que l'erreur apparente précédemment calculée ?\n",
    "- Non, elle est supérieure à celle calculée précédemment.\n",
    "\n",
    "Obtient-on toujours la même estimation pour l'erreur réelle ?\n",
    "- Pour chaque execution, on obtient une estimation différente de l'erreur réelle\n"
   ]
  },
  {
   "cell_type": "code",
   "execution_count": 39,
   "id": "dd83e336",
   "metadata": {},
   "outputs": [
    {
     "name": "stdout",
     "output_type": "stream",
     "text": [
      "t = 10 | moyenne = 0.11800000000000002\n",
      "t = 50 | moyenne = 0.19400000000000003\n",
      "t = 100 | moyenne = 0.2223999999999999\n",
      "t = 200 | moyenne = 0.19820000000000002\n",
      "t = 500 | moyenne = 0.19880000000000017\n",
      "t = 1000 | moyenne = 0.2055000000000004\n"
     ]
    }
   ],
   "source": [
    "# Cette fonction permet d'effectuer le test t fois et retourner la moyenne\n",
    "# du taux d'erreur\n",
    "def repeat_test(S,nb, t):\n",
    "    result = 0\n",
    "    for i in range(t):\n",
    "        result += test(S,nb)\n",
    "    return result / t\n",
    "\n",
    "# Pour chaque t on va effectuer le test et afficher la moyenne du taux d'erreur\n",
    "for t in [10,50,100,200,500,1000]:\n",
    "    print(f\"t = {t} | moyenne = {repeat_test(S,nb, t)}\")\n"
   ]
  },
  {
   "cell_type": "code",
   "execution_count": 40,
   "id": "d4c704a6",
   "metadata": {},
   "outputs": [
    {
     "name": "stdout",
     "output_type": "stream",
     "text": [
      "t = 10 | 20 fois | moyenne = 0.2049\n",
      "t = 50 | 20 fois | moyenne = 0.19726000000000002\n",
      "t = 100 | 20 fois | moyenne = 0.2009499999999999\n",
      "t = 200 | 20 fois | moyenne = 0.20231499999999997\n",
      "t = 500 | 20 fois | moyenne = 0.20200600000000007\n",
      "t = 1000 | 20 fois | moyenne = 0.20364100000000024\n"
     ]
    }
   ],
   "source": [
    "# Pour chaque t on va répeter le test 20 fois \n",
    "# et afficher la moyenne du taux d'erreur\n",
    "for t in [10,50,100,200,500,1000]:\n",
    "    moy = 0\n",
    "    for i in range(20):\n",
    "        moy += repeat_test(S,nb, t)\n",
    "    print(f\"t = {t} | 20 fois | moyenne = {moy/20}\")"
   ]
  },
  {
   "cell_type": "markdown",
   "id": "c502ad25",
   "metadata": {},
   "source": [
    "**Est-ce que l'erreur moyenne est stable ou non?**\n",
    "- L'erreur moyenne est plus en plus stable à chaque itération.\n",
    "\n",
    "**Pouvez-vous interpréter ce résultat?**\n",
    "- On peut conclure que les taux d'erreur obtenus sont des estimations d'un même l'estimateur (théorique). Plus l'ensemble de données est grand, plus les taux d'erreur converge vers le taux réel d'erreur."
   ]
  },
  {
   "cell_type": "markdown",
   "id": "9d881a90",
   "metadata": {},
   "source": [
    "**Est-ce que l'erreur estimée (dans sa version stable), dans le cas d'un échantillon de test qui ne prend que le 10ème de l'échantillon initial, est la même qu'avec la proportion d'1/3 ?**\n",
    "\n",
    "Pour réaliser cette comparaison, on a besoin de modifier la fonction `split(S)`\n",
    "- L'erreur avec la proportion d'1/3 est `0.20`\n",
    "- L'erreur avec le 10éme de l'échantillon initial est `0.13`"
   ]
  },
  {
   "cell_type": "code",
   "execution_count": 47,
   "id": "0dce5cb2",
   "metadata": {},
   "outputs": [
    {
     "data": {
      "text/plain": [
       "0.4"
      ]
     },
     "execution_count": 47,
     "metadata": {},
     "output_type": "execute_result"
    }
   ],
   "source": [
    "def split1(S):\n",
    "    s2_size = len(S)*0.1 # Le 10éme de l'échantillon initial\n",
    "    s2_indexes = sample(range(len(S)),k=round(s2_size))\n",
    "\n",
    "    dataS1 = []\n",
    "    targetS1 = []\n",
    "    dataS2 = []\n",
    "    targetS2 = []\n",
    "    for i in range(len(S)):\n",
    "        if i in s2_indexes:\n",
    "            dataS2.append(S[i][0])\n",
    "            targetS2.append(S[i][1])\n",
    "        else:\n",
    "            dataS1.append(S[i][0])\n",
    "            targetS1.append(S[i][1])\n",
    "    return [dataS1, targetS1, dataS2, targetS2]\n",
    "def test1(S, clf):\n",
    "  '''\n",
    "  - S is the list containing (X,y) pairs\n",
    "  - clf is the sklearn model\n",
    "  '''\n",
    "  [dataS1, targetS1, dataS2, targetS2] = split1(S)\n",
    "  clf.fit(dataS1, targetS1)\n",
    "  return 1-clf.score(dataS2, targetS2)\n",
    "\n",
    "test1(S,nb)\n"
   ]
  },
  {
   "cell_type": "markdown",
   "id": "ca9419f6",
   "metadata": {},
   "source": [
    "En utilisant la fonction `train_test_split`, on va tester différent test sizes."
   ]
  },
  {
   "cell_type": "code",
   "execution_count": 46,
   "id": "2c2d8fe2",
   "metadata": {},
   "outputs": [
    {
     "name": "stdout",
     "output_type": "stream",
     "text": [
      "Test size= 0.05    Accuracy = 1.0   Taux d'erreur = 0.0\n",
      "Test size= 0.1    Accuracy = 0.7333333333333333   Taux d'erreur = 0.2666666666666667\n",
      "Test size= 0.15000000000000002    Accuracy = 0.9565217391304348   Taux d'erreur = 0.04347826086956519\n",
      "Test size= 0.2    Accuracy = 0.9333333333333333   Taux d'erreur = 0.06666666666666665\n",
      "Test size= 0.25    Accuracy = 0.7368421052631579   Taux d'erreur = 0.26315789473684215\n",
      "Test size= 0.3    Accuracy = 0.6   Taux d'erreur = 0.4\n",
      "Test size= 0.35000000000000003    Accuracy = 0.8301886792452831   Taux d'erreur = 0.16981132075471694\n",
      "Test size= 0.4    Accuracy = 0.6166666666666667   Taux d'erreur = 0.3833333333333333\n",
      "Test size= 0.45    Accuracy = 0.9558823529411765   Taux d'erreur = 0.044117647058823484\n",
      "min_error is 0.0 with test_size = 0.05\n",
      "Erreur moyenne = 0.18191464334295718\n"
     ]
    }
   ],
   "source": [
    "from sklearn.model_selection import train_test_split\n",
    "from numpy import arange\n",
    "\n",
    "def test_it(test_size=.33):\n",
    "    X_train, X_test, y_train, y_test = train_test_split(irisData.data, irisData.target,test_size=test_size)\n",
    "    nb.fit(X_train, y_train)\n",
    "    print(f\"Test size= {test_size}    Accuracy = {nb.score(X_test, y_test)}   Taux d'erreur = {1-nb.score(X_test, y_test)}\")\n",
    "    return 1-nb.score(X_test, y_test)\n",
    "\n",
    "min_error_test_size = None\n",
    "min_error = None\n",
    "avg_error = 0\n",
    "test_sizes = arange(.05, 0.5, .05)\n",
    "for test_size in test_sizes:\n",
    "    error = test_it(test_size)\n",
    "    avg_error += error\n",
    "    if (min_error_test_size is None):\n",
    "        min_error_test_size = test_size\n",
    "        min_error = error\n",
    "    else:\n",
    "        if error < min_error:\n",
    "            min_error = error\n",
    "            min_error_test_size = test_size\n",
    "\n",
    "print(f\"min_error is {min_error} with test_size = {min_error_test_size}\")\n",
    "print(f\"Erreur moyenne = {avg_error/ len(test_sizes)}\")"
   ]
  },
  {
   "cell_type": "markdown",
   "id": "306ae81e",
   "metadata": {},
   "source": [
    "### Estimer l'erreur réelle par validation croisée"
   ]
  },
  {
   "cell_type": "code",
   "execution_count": 49,
   "id": "a73b7944",
   "metadata": {},
   "outputs": [
    {
     "name": "stdout",
     "output_type": "stream",
     "text": [
      "K= 10 folds | Taux d'erreur: 0.0467 (+/- 0.13)\n",
      "K= 2 folds | Taux d'erreur: 0.0467 (+/- 0.01)\n",
      "K= 3 folds | Taux d'erreur: 0.0533 (+/- 0.04)\n",
      "K= 5 folds | Taux d'erreur: 0.0467 (+/- 0.09)\n",
      "K= 8 folds | Taux d'erreur: 0.0526 (+/- 0.12)\n"
     ]
    }
   ],
   "source": [
    "from sklearn.model_selection import cross_val_score\n",
    "\n",
    "def test_fold(fold):\n",
    "    error_rate = 1 - cross_val_score(nb, irisData.data, irisData.target, cv=fold)\n",
    "    return 1-error_rate\n",
    "\n",
    "def test_it(params,fn):\n",
    "    for param in params:\n",
    "        scores = fn(param)\n",
    "        print(\"K= %d folds | Taux d'erreur: %0.4f (+/- %0.2f)\" % (param,1-scores.mean(), scores.std() * 2))\n",
    "\n",
    "test_it([10,2,3,5,8],test_fold)"
   ]
  },
  {
   "cell_type": "markdown",
   "id": "117333d7",
   "metadata": {},
   "source": [
    "# Génération du tableau des erreurs obtenues"
   ]
  },
  {
   "cell_type": "code",
   "execution_count": 50,
   "id": "e0647913",
   "metadata": {},
   "outputs": [
    {
     "name": "stdout",
     "output_type": "stream",
     "text": [
      "| |Performances sur l'ensemble d'apprentissage|Par division de l'échantillon d'apprentissage|Par la validation croisée|\n",
      "|-|-|-|-|\n",
      "| Naive Bayes|0.0467|0.0600|0.0467|\n",
      "| Arbre de décision|0.0000|0.0200|0.0400|\n",
      "| Random forest|0.0000|0.0400|0.0333|\n",
      "| SVM Classifier|0.0267|0.0000|0.0333|\n",
      "| KNN|0.0333|0.0200|0.0267|\n"
     ]
    }
   ],
   "source": [
    "from sklearn.naive_bayes import MultinomialNB\n",
    "from sklearn.tree import DecisionTreeClassifier\n",
    "from sklearn.ensemble import RandomForestClassifier\n",
    "from sklearn.svm import SVC\n",
    "from sklearn.neighbors import KNeighborsClassifier\n",
    "\n",
    "# Performances sur l'ensemble d'apprentissage\n",
    "def performance_method1(clf, X, y):\n",
    "    clf.fit(X,y)\n",
    "    return 1 - clf.score(X,y)\n",
    "# Par division de l'échantillon d'apprentissage\n",
    "def performance_method2(clf, X, y):\n",
    "    X_train, X_test, y_train, y_test = train_test_split(X,y, test_size=.33)\n",
    "    clf.fit(X_train, y_train)\n",
    "    return 1 - clf.score(X_test, y_test)\n",
    "# Par la validation croisée\n",
    "def performance_method3(clf, X, y):\n",
    "    error_rate = 1 - cross_val_score(clf, X, y).mean()\n",
    "    return error_rate\n",
    "\n",
    "performances = {\n",
    "  \"Performances sur l'ensemble d'apprentissage\": performance_method1,\n",
    "  \"Par division de l'échantillon d'apprentissage\": performance_method2,\n",
    "  \"Par la validation croisée\":performance_method3\n",
    "}\n",
    "\n",
    "classifiers = {\n",
    "    \"Naive Bayes\": MultinomialNB(fit_prior=True),\n",
    "    \"Arbre de décision\": DecisionTreeClassifier(),\n",
    "    \"Random forest\": RandomForestClassifier(),\n",
    "    \"SVM Classifier\": SVC(),\n",
    "    \"KNN\": KNeighborsClassifier(),\n",
    "}\n",
    "\n",
    "def generate_markdown_report(X, y):\n",
    "  print(\"| |\"+\"|\".join([perf_label for perf_label in performances])+\"|\")\n",
    "  print(\"|-|\"+\"|\".join([\"-\" for temp in performances])+\"|\")\n",
    "  for clf_label, clf in classifiers.items():\n",
    "    print(\"|\", clf_label, end=\"|\")\n",
    "    for perf_label, performance_fn in performances.items():\n",
    "      print(\"%.4f\"%performance_fn(clf, X, y), end=\"|\")\n",
    "    print()\n",
    "\n",
    "generate_markdown_report(irisData.data, irisData.target)\n"
   ]
  },
  {
   "cell_type": "markdown",
   "id": "a774f0d7",
   "metadata": {},
   "source": [
    "**Est-ce que les erreurs obtenues par la méthode naïve Bayes et par la méthode arbre de décision, vous permettent d'indiquer si une méthode de classification est meilleure qu'une autre ?**\n",
    "- On ne peut pas considérer qu'une méthode de classification est meilleure qu'une autre seulement par la comparaison de taux d'erreur. Cela dépend fortement à la nature du dataset. Certains algorithmes sont plus adapté à certains problèmes que d'autres."
   ]
  },
  {
   "cell_type": "code",
   "execution_count": null,
   "id": "28b4231d",
   "metadata": {},
   "outputs": [],
   "source": []
  }
 ],
 "metadata": {
  "kernelspec": {
   "display_name": "Python 3",
   "language": "python",
   "name": "python3"
  },
  "language_info": {
   "codemirror_mode": {
    "name": "ipython",
    "version": 3
   },
   "file_extension": ".py",
   "mimetype": "text/x-python",
   "name": "python",
   "nbconvert_exporter": "python",
   "pygments_lexer": "ipython3",
   "version": "3.8.8"
  }
 },
 "nbformat": 4,
 "nbformat_minor": 5
}
